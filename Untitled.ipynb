{
 "cells": [
  {
   "cell_type": "code",
   "execution_count": 2,
   "id": "c90dbcbe-ec88-49d9-8792-b5588100511a",
   "metadata": {},
   "outputs": [
    {
     "name": "stdout",
     "output_type": "stream",
     "text": [
      "✅ Fertilizer model and label encoder saved successfully!\n"
     ]
    }
   ],
   "source": [
    "# 1. Import libraries\n",
    "import pandas as pd\n",
    "from sklearn.ensemble import RandomForestClassifier\n",
    "from sklearn.model_selection import train_test_split\n",
    "from sklearn.preprocessing import LabelEncoder\n",
    "import joblib\n",
    "\n",
    "# 2. Load the dataset\n",
    "df = pd.read_csv('Fertilizer Prediction.csv')\n",
    "\n",
    "# 3. Clean column names\n",
    "df.columns = df.columns.str.strip()  # Remove trailing spaces\n",
    "df.rename(columns={\n",
    "    'Temparature': 'Temperature',       # Fix typo\n",
    "    'Phosphorous': 'Phosphorus'         # Optional standardization\n",
    "}, inplace=True)\n",
    "\n",
    "# 4. Preprocess data\n",
    "le = LabelEncoder()\n",
    "df['Soil Type'] = le.fit_transform(df['Soil Type'])\n",
    "df['Crop Type'] = le.fit_transform(df['Crop Type'])\n",
    "df['Fertilizer Name'] = le.fit_transform(df['Fertilizer Name'])\n",
    "\n",
    "# 5. Features and target\n",
    "X = df[['Temperature', 'Humidity', 'Moisture', 'Soil Type', 'Crop Type', 'Nitrogen', 'Phosphorus', 'Potassium']]\n",
    "y = df['Fertilizer Name']\n",
    "\n",
    "# 6. Train/test split\n",
    "X_train, X_test, y_train, y_test = train_test_split(X, y, test_size=0.2, random_state=42)\n",
    "\n",
    "# 7. Train model\n",
    "fert_model = RandomForestClassifier()\n",
    "fert_model.fit(X_train, y_train)\n",
    "\n",
    "# 8. Save model and encoders\n",
    "joblib.dump(fert_model, 'fertilizer_prediction_model.pkl')\n",
    "joblib.dump(le, 'fertilizer_label_encoder.pkl')\n",
    "\n",
    "print(\"✅ Fertilizer model and label encoder saved successfully!\")\n"
   ]
  },
  {
   "cell_type": "code",
   "execution_count": null,
   "id": "c2a94c14-ad29-4b07-b941-dffe172179c1",
   "metadata": {},
   "outputs": [],
   "source": []
  }
 ],
 "metadata": {
  "kernelspec": {
   "display_name": "Python 3 (ipykernel)",
   "language": "python",
   "name": "python3"
  },
  "language_info": {
   "codemirror_mode": {
    "name": "ipython",
    "version": 3
   },
   "file_extension": ".py",
   "mimetype": "text/x-python",
   "name": "python",
   "nbconvert_exporter": "python",
   "pygments_lexer": "ipython3",
   "version": "3.13.2"
  }
 },
 "nbformat": 4,
 "nbformat_minor": 5
}
