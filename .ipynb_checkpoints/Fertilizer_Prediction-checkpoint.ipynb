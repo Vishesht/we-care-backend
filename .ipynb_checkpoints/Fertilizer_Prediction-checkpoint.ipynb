{
 "cells": [
  {
   "cell_type": "code",
   "execution_count": 6,
   "id": "121a4a91-4cde-4158-812d-5af89b8c6669",
   "metadata": {},
   "outputs": [
    {
     "name": "stdout",
     "output_type": "stream",
     "text": [
      "✅ Cleaned Columns: ['temperature', 'humidity', 'moisture', 'soil_type', 'crop_type', 'nitrogen', 'potassium', 'phosphorus', 'fertilizer_name']\n",
      "✅ Fertilizer model and encoders saved successfully!\n"
     ]
    }
   ],
   "source": [
    "import pandas as pd\n",
    "from sklearn.ensemble import RandomForestClassifier\n",
    "from sklearn.model_selection import train_test_split\n",
    "from sklearn.preprocessing import LabelEncoder\n",
    "import joblib\n",
    "\n",
    "# 1. Load the dataset\n",
    "df = pd.read_csv('Fertilizer Prediction.csv')\n",
    "\n",
    "# 2. Clean column names (strip spaces and make lowercase with underscores)\n",
    "df.columns = df.columns.str.strip().str.lower().str.replace(' ', '_')\n",
    "\n",
    "# 3. Rename common typos (like \"temparature\")\n",
    "df.rename(columns={\n",
    "    'temparature': 'temperature',\n",
    "    'phosphorous': 'phosphorus'  # optional normalization\n",
    "}, inplace=True)\n",
    "\n",
    "print(\"✅ Cleaned Columns:\", df.columns.tolist())\n",
    "\n",
    "# 4. Initialize label encoders\n",
    "soil_encoder = LabelEncoder()\n",
    "crop_encoder = LabelEncoder()\n",
    "fertilizer_encoder = LabelEncoder()\n",
    "\n",
    "# 5. Encode categorical columns\n",
    "df['soil_type'] = soil_encoder.fit_transform(df['soil_type'])\n",
    "df['crop_type'] = crop_encoder.fit_transform(df['crop_type'])\n",
    "df['fertilizer_name'] = fertilizer_encoder.fit_transform(df['fertilizer_name'])\n",
    "\n",
    "# 6. Define features and label\n",
    "X = df[['temperature', 'humidity', 'moisture', 'soil_type', 'crop_type', 'nitrogen', 'phosphorus', 'potassium']]\n",
    "y = df['fertilizer_name']\n",
    "\n",
    "# 7. Train/test split\n",
    "X_train, X_test, y_train, y_test = train_test_split(X, y, test_size=0.2, random_state=42)\n",
    "\n",
    "# 8. Train model\n",
    "model = RandomForestClassifier()\n",
    "model.fit(X_train, y_train)\n",
    "\n",
    "# 9. Save model and encoders\n",
    "joblib.dump(model, 'fertilizer_prediction_model.pkl')\n",
    "joblib.dump(soil_encoder, 'soil_encoder.pkl')\n",
    "joblib.dump(crop_encoder, 'crop_encoder.pkl')\n",
    "joblib.dump(fertilizer_encoder, 'fertilizer_encoder.pkl')\n",
    "\n",
    "print(\"✅ Fertilizer model and encoders saved successfully!\")\n"
   ]
  },
  {
   "cell_type": "code",
   "execution_count": null,
   "id": "22315fca-588f-4fdc-b1bf-2ead68f99811",
   "metadata": {},
   "outputs": [],
   "source": []
  }
 ],
 "metadata": {
  "kernelspec": {
   "display_name": "Python 3 (ipykernel)",
   "language": "python",
   "name": "python3"
  },
  "language_info": {
   "codemirror_mode": {
    "name": "ipython",
    "version": 3
   },
   "file_extension": ".py",
   "mimetype": "text/x-python",
   "name": "python",
   "nbconvert_exporter": "python",
   "pygments_lexer": "ipython3",
   "version": "3.13.2"
  }
 },
 "nbformat": 4,
 "nbformat_minor": 5
}
